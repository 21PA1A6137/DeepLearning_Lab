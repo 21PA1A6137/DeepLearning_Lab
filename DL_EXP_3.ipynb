{
  "nbformat": 4,
  "nbformat_minor": 0,
  "metadata": {
    "colab": {
      "provenance": [],
      "authorship_tag": "ABX9TyNIa94Rdu9C1e1DbGiRyr5d",
      "include_colab_link": true
    },
    "kernelspec": {
      "name": "python3",
      "display_name": "Python 3"
    },
    "language_info": {
      "name": "python"
    }
  },
  "cells": [
    {
      "cell_type": "markdown",
      "metadata": {
        "id": "view-in-github",
        "colab_type": "text"
      },
      "source": [
        "<a href=\"https://colab.research.google.com/github/21PA1A6137/DeepLearning_Lab/blob/main/DL_EXP_3.ipynb\" target=\"_parent\"><img src=\"https://colab.research.google.com/assets/colab-badge.svg\" alt=\"Open In Colab\"/></a>"
      ]
    },
    {
      "cell_type": "code",
      "execution_count": 1,
      "metadata": {
        "id": "fuMRzh5A8KBP"
      },
      "outputs": [],
      "source": [
        "import numpy as np"
      ]
    },
    {
      "cell_type": "code",
      "source": [
        "class NeuralNetworks():\n",
        "  def __init__(self):\n",
        "    np.random.seed(1)\n",
        "    self.synaptic_weights = 2*np.random.random((3,1))-1\n",
        "  def sigmoid(self,x):\n",
        "    return 1/(1+np.exp(-x))\n",
        "  def sigmoid_derivative(self,x):\n",
        "    return x*(1-x)\n",
        "  def train(self,training_input,training_output,iterations):\n",
        "    for _ in range(iterations):\n",
        "      output = self.think(training_input)\n",
        "      error = training_output - output\n",
        "      adjustment = np.dot(training_input.T,error*self.sigmoid_derivative(output))\n",
        "      self.synaptic_weights += adjustment\n",
        "\n",
        "  def think(self,input):\n",
        "    input = input.astype(float)\n",
        "    output = self.sigmoid(np.dot(input,self.synaptic_weights))\n",
        "    return output"
      ],
      "metadata": {
        "id": "sRyD-oKSAemb"
      },
      "execution_count": 24,
      "outputs": []
    },
    {
      "cell_type": "code",
      "source": [
        "if __name__ == \"__main__\": #Intialise a single neuron neural network.\n",
        "  neural_network = NeuralNetworks()\n",
        "  print(\"Random starting synaptic weights: \")\n",
        "  print(neural_network.synaptic_weights) # The training set. We have 4 examples, each consisting of 3 input values # and 1 output value.\n",
        "  training_input = np.array([[0, 0, 1], [1, 1, 1], [1, 0, 1], [0, 1, 1]])\n",
        "  training_output = np.array([[0, 1, 1, 0]]).T # Train the neural network using a training set. # Do it 10,000 times and make small adjustments each time.\n",
        "  neural_network.train(training_input, training_output, 10000)\n",
        "  print(\"New synaptic weights after training: \")\n",
        "  print(neural_network.synaptic_weights) # Test the neural network with a new situation.\n",
        "  print(\"Considering new situation [1, 0, 0] -> ?: \")\n",
        "  print(neural_network.think(np.array([1, 0, 0])))"
      ],
      "metadata": {
        "colab": {
          "base_uri": "https://localhost:8080/"
        },
        "id": "svI-kRRsJpHZ",
        "outputId": "4476b2e1-97f7-44ab-b41d-b2702ed377ca"
      },
      "execution_count": 25,
      "outputs": [
        {
          "output_type": "stream",
          "name": "stdout",
          "text": [
            "Random starting synaptic weights: \n",
            "[[-0.16595599]\n",
            " [ 0.44064899]\n",
            " [-0.99977125]]\n",
            "New synaptic weights after training: \n",
            "[[ 9.67299303]\n",
            " [-0.2078435 ]\n",
            " [-4.62963669]]\n",
            "Considering new situation [1, 0, 0] -> ?: \n",
            "[0.99993704]\n"
          ]
        }
      ]
    },
    {
      "cell_type": "code",
      "source": [],
      "metadata": {
        "id": "Q42BCNIYKTr9"
      },
      "execution_count": null,
      "outputs": []
    }
  ]
}