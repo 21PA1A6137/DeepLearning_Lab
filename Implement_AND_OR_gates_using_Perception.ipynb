{
  "nbformat": 4,
  "nbformat_minor": 0,
  "metadata": {
    "colab": {
      "provenance": []
    },
    "kernelspec": {
      "name": "python3",
      "display_name": "Python 3"
    },
    "language_info": {
      "name": "python"
    }
  },
  "cells": [
    {
      "cell_type": "code",
      "source": [
        "import numpy as np\n",
        "import random"
      ],
      "metadata": {
        "id": "ZUEZtegdPcGS"
      },
      "execution_count": 23,
      "outputs": []
    },
    {
      "cell_type": "code",
      "source": [
        "and_gate = [\n",
        "    [(1,1),1],\n",
        "    [(-1,1),-1],\n",
        "    [(-1,-1),-1],\n",
        "    [(1,-1),-1]\n",
        "]\n",
        "\n",
        "or_gate = [\n",
        "    [(1,1),1],\n",
        "    [(-1,1),1],\n",
        "    [(1,-1),1],\n",
        "    [(-1,-1),-1]\n",
        "]"
      ],
      "metadata": {
        "id": "P7IAmmzOWJEN"
      },
      "execution_count": 24,
      "outputs": []
    },
    {
      "cell_type": "code",
      "source": [
        "def activation(x):\n",
        "  if x>0:\n",
        "    return 1\n",
        "  return -1"
      ],
      "metadata": {
        "id": "SFqieEdgWhfm"
      },
      "execution_count": 26,
      "outputs": []
    },
    {
      "cell_type": "code",
      "source": [
        "def perceptron(gate):\n",
        "  bias = (1,)\n",
        "  learning_rate = 0.1\n",
        "  n = 50\n",
        "  weight = []\n",
        "\n",
        "  for i in range(3):\n",
        "    weight.append(random.uniform(-1,1))\n",
        "\n",
        "  for i in range(n):\n",
        "    inputs , exp_out = random.choice(gate)\n",
        "    inputs += bias\n",
        "    weighted_sum = np.dot(inputs,weight)\n",
        "    guess = activation(weighted_sum)\n",
        "    error = exp_out - guess\n",
        "    weight += learning_rate*error*np.asarray(inputs)\n",
        "\n",
        "\n",
        "  inputs , exp_out = random.choice(gate)\n",
        "  print(\"Input : \",str(inputs))\n",
        "\n",
        "  inputs+=bias\n",
        "  weighted_sum = np.dot(inputs,weight)\n",
        "\n",
        "  print(\"Weighted Sum : \",str(weighted_sum))\n",
        "  print(\"Correct Output : \",str(exp_out))\n",
        "  print(\"Perceptron Output : \",str(activation(weighted_sum)))"
      ],
      "metadata": {
        "id": "rW-qN-rpWpEM"
      },
      "execution_count": 28,
      "outputs": []
    },
    {
      "cell_type": "code",
      "source": [
        "tests=2\n",
        "for i in range(tests):\n",
        "    print(\"'AND_GATE'\")\n",
        "    perceptron(and_gate)\n",
        "    print()\n",
        "    print(\"'OR_GATE'\")\n",
        "    perceptron(or_gate)\n",
        "    print()"
      ],
      "metadata": {
        "colab": {
          "base_uri": "https://localhost:8080/"
        },
        "id": "7cjR3NalX6og",
        "outputId": "12404015-0dc2-4cca-d6c9-6db468772f7b"
      },
      "execution_count": 37,
      "outputs": [
        {
          "output_type": "stream",
          "name": "stdout",
          "text": [
            "'AND_GATE'\n",
            "Input :  (-1, -1)\n",
            "Weighted Sum :  -0.8100640207007705\n",
            "Correct Output :  -1\n",
            "Perceptron Output :  -1\n",
            "\n",
            "'OR_GATE'\n",
            "Input :  (-1, 1)\n",
            "Weighted Sum :  0.23403425713018655\n",
            "Correct Output :  1\n",
            "Perceptron Output :  1\n",
            "\n",
            "'AND_GATE'\n",
            "Input :  (-1, -1)\n",
            "Weighted Sum :  -0.7941870821936113\n",
            "Correct Output :  -1\n",
            "Perceptron Output :  -1\n",
            "\n",
            "'OR_GATE'\n",
            "Input :  (1, 1)\n",
            "Weighted Sum :  0.7488185424480607\n",
            "Correct Output :  1\n",
            "Perceptron Output :  1\n",
            "\n"
          ]
        }
      ]
    },
    {
      "cell_type": "code",
      "source": [],
      "metadata": {
        "id": "aZ96ra3iaOjn"
      },
      "execution_count": 30,
      "outputs": []
    }
  ]
}
